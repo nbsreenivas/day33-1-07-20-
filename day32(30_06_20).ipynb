{
  "nbformat": 4,
  "nbformat_minor": 0,
  "metadata": {
    "colab": {
      "name": "day32(30-06-20)",
      "provenance": [],
      "authorship_tag": "ABX9TyMc1kOyAKHAs7khXoLZs4k4",
      "include_colab_link": true
    },
    "kernelspec": {
      "name": "python3",
      "display_name": "Python 3"
    }
  },
  "cells": [
    {
      "cell_type": "markdown",
      "metadata": {
        "id": "view-in-github",
        "colab_type": "text"
      },
      "source": [
        "<a href=\"https://colab.research.google.com/github/nbsreenivas/day33-1-07-20-/blob/master/day32(30_06_20).ipynb\" target=\"_parent\"><img src=\"https://colab.research.google.com/assets/colab-badge.svg\" alt=\"Open In Colab\"/></a>"
      ]
    },
    {
      "cell_type": "code",
      "metadata": {
        "id": "0wour_tGFtSa",
        "colab_type": "code",
        "colab": {
          "base_uri": "https://localhost:8080/",
          "height": 71
        },
        "outputId": "54b81a72-fe42-4a26-eef5-c0025dfae267"
      },
      "source": [
        "# import the libraries\n",
        "import pandas as pd\n",
        "import numpy as np\n",
        "import matplotlib.pyplot as plt\n",
        "import seaborn as sns"
      ],
      "execution_count": 2,
      "outputs": [
        {
          "output_type": "stream",
          "text": [
            "/usr/local/lib/python3.6/dist-packages/statsmodels/tools/_testing.py:19: FutureWarning: pandas.util.testing is deprecated. Use the functions in the public API at pandas.testing instead.\n",
            "  import pandas.util.testing as tm\n"
          ],
          "name": "stderr"
        }
      ]
    },
    {
      "cell_type": "code",
      "metadata": {
        "id": "SESFrKWLHVpR",
        "colab_type": "code",
        "colab": {
          "base_uri": "https://localhost:8080/",
          "height": 224
        },
        "outputId": "8e13a99e-8ad6-40fb-b6a9-70d440f38a41"
      },
      "source": [
        "# read the data\n",
        "data = pd.read_csv(\"https://raw.githubusercontent.com/Mounika-Kajjam/Datasets/master/wbcd.csv\")\n",
        "data.head()"
      ],
      "execution_count": 3,
      "outputs": [
        {
          "output_type": "execute_result",
          "data": {
            "text/html": [
              "<div>\n",
              "<style scoped>\n",
              "    .dataframe tbody tr th:only-of-type {\n",
              "        vertical-align: middle;\n",
              "    }\n",
              "\n",
              "    .dataframe tbody tr th {\n",
              "        vertical-align: top;\n",
              "    }\n",
              "\n",
              "    .dataframe thead th {\n",
              "        text-align: right;\n",
              "    }\n",
              "</style>\n",
              "<table border=\"1\" class=\"dataframe\">\n",
              "  <thead>\n",
              "    <tr style=\"text-align: right;\">\n",
              "      <th></th>\n",
              "      <th>id</th>\n",
              "      <th>diagnosis</th>\n",
              "      <th>radius_mean</th>\n",
              "      <th>texture_mean</th>\n",
              "      <th>perimeter_mean</th>\n",
              "      <th>area_mean</th>\n",
              "      <th>smoothness_mean</th>\n",
              "      <th>compactness_mean</th>\n",
              "      <th>concavity_mean</th>\n",
              "      <th>points_mean</th>\n",
              "      <th>symmetry_mean</th>\n",
              "      <th>dimension_mean</th>\n",
              "      <th>radius_se</th>\n",
              "      <th>texture_se</th>\n",
              "      <th>perimeter_se</th>\n",
              "      <th>area_se</th>\n",
              "      <th>smoothness_se</th>\n",
              "      <th>compactness_se</th>\n",
              "      <th>concavity_se</th>\n",
              "      <th>points_se</th>\n",
              "      <th>symmetry_se</th>\n",
              "      <th>dimension_se</th>\n",
              "      <th>radius_worst</th>\n",
              "      <th>texture_worst</th>\n",
              "      <th>perimeter_worst</th>\n",
              "      <th>area_worst</th>\n",
              "      <th>smoothness_worst</th>\n",
              "      <th>compactness_worst</th>\n",
              "      <th>concavity_worst</th>\n",
              "      <th>points_worst</th>\n",
              "      <th>symmetry_worst</th>\n",
              "      <th>dimension_worst</th>\n",
              "    </tr>\n",
              "  </thead>\n",
              "  <tbody>\n",
              "    <tr>\n",
              "      <th>0</th>\n",
              "      <td>87139402</td>\n",
              "      <td>B</td>\n",
              "      <td>12.32</td>\n",
              "      <td>12.39</td>\n",
              "      <td>78.85</td>\n",
              "      <td>464.1</td>\n",
              "      <td>0.10280</td>\n",
              "      <td>0.06981</td>\n",
              "      <td>0.03987</td>\n",
              "      <td>0.03700</td>\n",
              "      <td>0.1959</td>\n",
              "      <td>0.05955</td>\n",
              "      <td>0.2360</td>\n",
              "      <td>0.6656</td>\n",
              "      <td>1.670</td>\n",
              "      <td>17.43</td>\n",
              "      <td>0.008045</td>\n",
              "      <td>0.011800</td>\n",
              "      <td>0.01683</td>\n",
              "      <td>0.012410</td>\n",
              "      <td>0.01924</td>\n",
              "      <td>0.002248</td>\n",
              "      <td>13.50</td>\n",
              "      <td>15.64</td>\n",
              "      <td>86.97</td>\n",
              "      <td>549.1</td>\n",
              "      <td>0.1385</td>\n",
              "      <td>0.1266</td>\n",
              "      <td>0.12420</td>\n",
              "      <td>0.09391</td>\n",
              "      <td>0.2827</td>\n",
              "      <td>0.06771</td>\n",
              "    </tr>\n",
              "    <tr>\n",
              "      <th>1</th>\n",
              "      <td>8910251</td>\n",
              "      <td>B</td>\n",
              "      <td>10.60</td>\n",
              "      <td>18.95</td>\n",
              "      <td>69.28</td>\n",
              "      <td>346.4</td>\n",
              "      <td>0.09688</td>\n",
              "      <td>0.11470</td>\n",
              "      <td>0.06387</td>\n",
              "      <td>0.02642</td>\n",
              "      <td>0.1922</td>\n",
              "      <td>0.06491</td>\n",
              "      <td>0.4505</td>\n",
              "      <td>1.1970</td>\n",
              "      <td>3.430</td>\n",
              "      <td>27.10</td>\n",
              "      <td>0.007470</td>\n",
              "      <td>0.035810</td>\n",
              "      <td>0.03354</td>\n",
              "      <td>0.013650</td>\n",
              "      <td>0.03504</td>\n",
              "      <td>0.003318</td>\n",
              "      <td>11.88</td>\n",
              "      <td>22.94</td>\n",
              "      <td>78.28</td>\n",
              "      <td>424.8</td>\n",
              "      <td>0.1213</td>\n",
              "      <td>0.2515</td>\n",
              "      <td>0.19160</td>\n",
              "      <td>0.07926</td>\n",
              "      <td>0.2940</td>\n",
              "      <td>0.07587</td>\n",
              "    </tr>\n",
              "    <tr>\n",
              "      <th>2</th>\n",
              "      <td>905520</td>\n",
              "      <td>B</td>\n",
              "      <td>11.04</td>\n",
              "      <td>16.83</td>\n",
              "      <td>70.92</td>\n",
              "      <td>373.2</td>\n",
              "      <td>0.10770</td>\n",
              "      <td>0.07804</td>\n",
              "      <td>0.03046</td>\n",
              "      <td>0.02480</td>\n",
              "      <td>0.1714</td>\n",
              "      <td>0.06340</td>\n",
              "      <td>0.1967</td>\n",
              "      <td>1.3870</td>\n",
              "      <td>1.342</td>\n",
              "      <td>13.54</td>\n",
              "      <td>0.005158</td>\n",
              "      <td>0.009355</td>\n",
              "      <td>0.01056</td>\n",
              "      <td>0.007483</td>\n",
              "      <td>0.01718</td>\n",
              "      <td>0.002198</td>\n",
              "      <td>12.41</td>\n",
              "      <td>26.44</td>\n",
              "      <td>79.93</td>\n",
              "      <td>471.4</td>\n",
              "      <td>0.1369</td>\n",
              "      <td>0.1482</td>\n",
              "      <td>0.10670</td>\n",
              "      <td>0.07431</td>\n",
              "      <td>0.2998</td>\n",
              "      <td>0.07881</td>\n",
              "    </tr>\n",
              "    <tr>\n",
              "      <th>3</th>\n",
              "      <td>868871</td>\n",
              "      <td>B</td>\n",
              "      <td>11.28</td>\n",
              "      <td>13.39</td>\n",
              "      <td>73.00</td>\n",
              "      <td>384.8</td>\n",
              "      <td>0.11640</td>\n",
              "      <td>0.11360</td>\n",
              "      <td>0.04635</td>\n",
              "      <td>0.04796</td>\n",
              "      <td>0.1771</td>\n",
              "      <td>0.06072</td>\n",
              "      <td>0.3384</td>\n",
              "      <td>1.3430</td>\n",
              "      <td>1.851</td>\n",
              "      <td>26.33</td>\n",
              "      <td>0.011270</td>\n",
              "      <td>0.034980</td>\n",
              "      <td>0.02187</td>\n",
              "      <td>0.019650</td>\n",
              "      <td>0.01580</td>\n",
              "      <td>0.003442</td>\n",
              "      <td>11.92</td>\n",
              "      <td>15.77</td>\n",
              "      <td>76.53</td>\n",
              "      <td>434.0</td>\n",
              "      <td>0.1367</td>\n",
              "      <td>0.1822</td>\n",
              "      <td>0.08669</td>\n",
              "      <td>0.08611</td>\n",
              "      <td>0.2102</td>\n",
              "      <td>0.06784</td>\n",
              "    </tr>\n",
              "    <tr>\n",
              "      <th>4</th>\n",
              "      <td>9012568</td>\n",
              "      <td>B</td>\n",
              "      <td>15.19</td>\n",
              "      <td>13.21</td>\n",
              "      <td>97.65</td>\n",
              "      <td>711.8</td>\n",
              "      <td>0.07963</td>\n",
              "      <td>0.06934</td>\n",
              "      <td>0.03393</td>\n",
              "      <td>0.02657</td>\n",
              "      <td>0.1721</td>\n",
              "      <td>0.05544</td>\n",
              "      <td>0.1783</td>\n",
              "      <td>0.4125</td>\n",
              "      <td>1.338</td>\n",
              "      <td>17.72</td>\n",
              "      <td>0.005012</td>\n",
              "      <td>0.014850</td>\n",
              "      <td>0.01551</td>\n",
              "      <td>0.009155</td>\n",
              "      <td>0.01647</td>\n",
              "      <td>0.001767</td>\n",
              "      <td>16.20</td>\n",
              "      <td>15.73</td>\n",
              "      <td>104.50</td>\n",
              "      <td>819.1</td>\n",
              "      <td>0.1126</td>\n",
              "      <td>0.1737</td>\n",
              "      <td>0.13620</td>\n",
              "      <td>0.08178</td>\n",
              "      <td>0.2487</td>\n",
              "      <td>0.06766</td>\n",
              "    </tr>\n",
              "  </tbody>\n",
              "</table>\n",
              "</div>"
            ],
            "text/plain": [
              "         id diagnosis  ...  symmetry_worst  dimension_worst\n",
              "0  87139402         B  ...          0.2827          0.06771\n",
              "1   8910251         B  ...          0.2940          0.07587\n",
              "2    905520         B  ...          0.2998          0.07881\n",
              "3    868871         B  ...          0.2102          0.06784\n",
              "4   9012568         B  ...          0.2487          0.06766\n",
              "\n",
              "[5 rows x 32 columns]"
            ]
          },
          "metadata": {
            "tags": []
          },
          "execution_count": 3
        }
      ]
    },
    {
      "cell_type": "code",
      "metadata": {
        "id": "A9LomLHhHl86",
        "colab_type": "code",
        "colab": {
          "base_uri": "https://localhost:8080/",
          "height": 68
        },
        "outputId": "69853313-cd48-4093-a207-bc84e32125d4"
      },
      "source": [
        "# check for frequency of B and M\n",
        "data.diagnosis.value_counts()"
      ],
      "execution_count": 4,
      "outputs": [
        {
          "output_type": "execute_result",
          "data": {
            "text/plain": [
              "B    357\n",
              "M    212\n",
              "Name: diagnosis, dtype: int64"
            ]
          },
          "metadata": {
            "tags": []
          },
          "execution_count": 4
        }
      ]
    },
    {
      "cell_type": "code",
      "metadata": {
        "id": "vyDGfiM0IAmq",
        "colab_type": "code",
        "colab": {
          "base_uri": "https://localhost:8080/",
          "height": 578
        },
        "outputId": "6265e590-0d3a-48b8-8533-9d16b57946af"
      },
      "source": [
        "data.isnull().sum()"
      ],
      "execution_count": 5,
      "outputs": [
        {
          "output_type": "execute_result",
          "data": {
            "text/plain": [
              "id                   0\n",
              "diagnosis            0\n",
              "radius_mean          0\n",
              "texture_mean         0\n",
              "perimeter_mean       0\n",
              "area_mean            0\n",
              "smoothness_mean      0\n",
              "compactness_mean     0\n",
              "concavity_mean       0\n",
              "points_mean          0\n",
              "symmetry_mean        0\n",
              "dimension_mean       0\n",
              "radius_se            0\n",
              "texture_se           0\n",
              "perimeter_se         0\n",
              "area_se              0\n",
              "smoothness_se        0\n",
              "compactness_se       0\n",
              "concavity_se         0\n",
              "points_se            0\n",
              "symmetry_se          0\n",
              "dimension_se         0\n",
              "radius_worst         0\n",
              "texture_worst        0\n",
              "perimeter_worst      0\n",
              "area_worst           0\n",
              "smoothness_worst     0\n",
              "compactness_worst    0\n",
              "concavity_worst      0\n",
              "points_worst         0\n",
              "symmetry_worst       0\n",
              "dimension_worst      0\n",
              "dtype: int64"
            ]
          },
          "metadata": {
            "tags": []
          },
          "execution_count": 5
        }
      ]
    },
    {
      "cell_type": "code",
      "metadata": {
        "id": "gwLkBiBfIFFv",
        "colab_type": "code",
        "colab": {}
      },
      "source": [
        "# split the dataset into input and output--> train and test\n",
        "#train-->  building the model\n",
        "# test--> how well the model has learnt "
      ],
      "execution_count": 6,
      "outputs": []
    },
    {
      "cell_type": "code",
      "metadata": {
        "id": "HNW_jmF_Imky",
        "colab_type": "code",
        "colab": {
          "base_uri": "https://localhost:8080/",
          "height": 224
        },
        "outputId": "6fdc51c0-8d17-40a2-9585-cf381af3c632"
      },
      "source": [
        "# preparing input and output\n",
        "X = data.drop(['id','diagnosis'],axis=1)\n",
        "X.head()"
      ],
      "execution_count": 7,
      "outputs": [
        {
          "output_type": "execute_result",
          "data": {
            "text/html": [
              "<div>\n",
              "<style scoped>\n",
              "    .dataframe tbody tr th:only-of-type {\n",
              "        vertical-align: middle;\n",
              "    }\n",
              "\n",
              "    .dataframe tbody tr th {\n",
              "        vertical-align: top;\n",
              "    }\n",
              "\n",
              "    .dataframe thead th {\n",
              "        text-align: right;\n",
              "    }\n",
              "</style>\n",
              "<table border=\"1\" class=\"dataframe\">\n",
              "  <thead>\n",
              "    <tr style=\"text-align: right;\">\n",
              "      <th></th>\n",
              "      <th>radius_mean</th>\n",
              "      <th>texture_mean</th>\n",
              "      <th>perimeter_mean</th>\n",
              "      <th>area_mean</th>\n",
              "      <th>smoothness_mean</th>\n",
              "      <th>compactness_mean</th>\n",
              "      <th>concavity_mean</th>\n",
              "      <th>points_mean</th>\n",
              "      <th>symmetry_mean</th>\n",
              "      <th>dimension_mean</th>\n",
              "      <th>radius_se</th>\n",
              "      <th>texture_se</th>\n",
              "      <th>perimeter_se</th>\n",
              "      <th>area_se</th>\n",
              "      <th>smoothness_se</th>\n",
              "      <th>compactness_se</th>\n",
              "      <th>concavity_se</th>\n",
              "      <th>points_se</th>\n",
              "      <th>symmetry_se</th>\n",
              "      <th>dimension_se</th>\n",
              "      <th>radius_worst</th>\n",
              "      <th>texture_worst</th>\n",
              "      <th>perimeter_worst</th>\n",
              "      <th>area_worst</th>\n",
              "      <th>smoothness_worst</th>\n",
              "      <th>compactness_worst</th>\n",
              "      <th>concavity_worst</th>\n",
              "      <th>points_worst</th>\n",
              "      <th>symmetry_worst</th>\n",
              "      <th>dimension_worst</th>\n",
              "    </tr>\n",
              "  </thead>\n",
              "  <tbody>\n",
              "    <tr>\n",
              "      <th>0</th>\n",
              "      <td>12.32</td>\n",
              "      <td>12.39</td>\n",
              "      <td>78.85</td>\n",
              "      <td>464.1</td>\n",
              "      <td>0.10280</td>\n",
              "      <td>0.06981</td>\n",
              "      <td>0.03987</td>\n",
              "      <td>0.03700</td>\n",
              "      <td>0.1959</td>\n",
              "      <td>0.05955</td>\n",
              "      <td>0.2360</td>\n",
              "      <td>0.6656</td>\n",
              "      <td>1.670</td>\n",
              "      <td>17.43</td>\n",
              "      <td>0.008045</td>\n",
              "      <td>0.011800</td>\n",
              "      <td>0.01683</td>\n",
              "      <td>0.012410</td>\n",
              "      <td>0.01924</td>\n",
              "      <td>0.002248</td>\n",
              "      <td>13.50</td>\n",
              "      <td>15.64</td>\n",
              "      <td>86.97</td>\n",
              "      <td>549.1</td>\n",
              "      <td>0.1385</td>\n",
              "      <td>0.1266</td>\n",
              "      <td>0.12420</td>\n",
              "      <td>0.09391</td>\n",
              "      <td>0.2827</td>\n",
              "      <td>0.06771</td>\n",
              "    </tr>\n",
              "    <tr>\n",
              "      <th>1</th>\n",
              "      <td>10.60</td>\n",
              "      <td>18.95</td>\n",
              "      <td>69.28</td>\n",
              "      <td>346.4</td>\n",
              "      <td>0.09688</td>\n",
              "      <td>0.11470</td>\n",
              "      <td>0.06387</td>\n",
              "      <td>0.02642</td>\n",
              "      <td>0.1922</td>\n",
              "      <td>0.06491</td>\n",
              "      <td>0.4505</td>\n",
              "      <td>1.1970</td>\n",
              "      <td>3.430</td>\n",
              "      <td>27.10</td>\n",
              "      <td>0.007470</td>\n",
              "      <td>0.035810</td>\n",
              "      <td>0.03354</td>\n",
              "      <td>0.013650</td>\n",
              "      <td>0.03504</td>\n",
              "      <td>0.003318</td>\n",
              "      <td>11.88</td>\n",
              "      <td>22.94</td>\n",
              "      <td>78.28</td>\n",
              "      <td>424.8</td>\n",
              "      <td>0.1213</td>\n",
              "      <td>0.2515</td>\n",
              "      <td>0.19160</td>\n",
              "      <td>0.07926</td>\n",
              "      <td>0.2940</td>\n",
              "      <td>0.07587</td>\n",
              "    </tr>\n",
              "    <tr>\n",
              "      <th>2</th>\n",
              "      <td>11.04</td>\n",
              "      <td>16.83</td>\n",
              "      <td>70.92</td>\n",
              "      <td>373.2</td>\n",
              "      <td>0.10770</td>\n",
              "      <td>0.07804</td>\n",
              "      <td>0.03046</td>\n",
              "      <td>0.02480</td>\n",
              "      <td>0.1714</td>\n",
              "      <td>0.06340</td>\n",
              "      <td>0.1967</td>\n",
              "      <td>1.3870</td>\n",
              "      <td>1.342</td>\n",
              "      <td>13.54</td>\n",
              "      <td>0.005158</td>\n",
              "      <td>0.009355</td>\n",
              "      <td>0.01056</td>\n",
              "      <td>0.007483</td>\n",
              "      <td>0.01718</td>\n",
              "      <td>0.002198</td>\n",
              "      <td>12.41</td>\n",
              "      <td>26.44</td>\n",
              "      <td>79.93</td>\n",
              "      <td>471.4</td>\n",
              "      <td>0.1369</td>\n",
              "      <td>0.1482</td>\n",
              "      <td>0.10670</td>\n",
              "      <td>0.07431</td>\n",
              "      <td>0.2998</td>\n",
              "      <td>0.07881</td>\n",
              "    </tr>\n",
              "    <tr>\n",
              "      <th>3</th>\n",
              "      <td>11.28</td>\n",
              "      <td>13.39</td>\n",
              "      <td>73.00</td>\n",
              "      <td>384.8</td>\n",
              "      <td>0.11640</td>\n",
              "      <td>0.11360</td>\n",
              "      <td>0.04635</td>\n",
              "      <td>0.04796</td>\n",
              "      <td>0.1771</td>\n",
              "      <td>0.06072</td>\n",
              "      <td>0.3384</td>\n",
              "      <td>1.3430</td>\n",
              "      <td>1.851</td>\n",
              "      <td>26.33</td>\n",
              "      <td>0.011270</td>\n",
              "      <td>0.034980</td>\n",
              "      <td>0.02187</td>\n",
              "      <td>0.019650</td>\n",
              "      <td>0.01580</td>\n",
              "      <td>0.003442</td>\n",
              "      <td>11.92</td>\n",
              "      <td>15.77</td>\n",
              "      <td>76.53</td>\n",
              "      <td>434.0</td>\n",
              "      <td>0.1367</td>\n",
              "      <td>0.1822</td>\n",
              "      <td>0.08669</td>\n",
              "      <td>0.08611</td>\n",
              "      <td>0.2102</td>\n",
              "      <td>0.06784</td>\n",
              "    </tr>\n",
              "    <tr>\n",
              "      <th>4</th>\n",
              "      <td>15.19</td>\n",
              "      <td>13.21</td>\n",
              "      <td>97.65</td>\n",
              "      <td>711.8</td>\n",
              "      <td>0.07963</td>\n",
              "      <td>0.06934</td>\n",
              "      <td>0.03393</td>\n",
              "      <td>0.02657</td>\n",
              "      <td>0.1721</td>\n",
              "      <td>0.05544</td>\n",
              "      <td>0.1783</td>\n",
              "      <td>0.4125</td>\n",
              "      <td>1.338</td>\n",
              "      <td>17.72</td>\n",
              "      <td>0.005012</td>\n",
              "      <td>0.014850</td>\n",
              "      <td>0.01551</td>\n",
              "      <td>0.009155</td>\n",
              "      <td>0.01647</td>\n",
              "      <td>0.001767</td>\n",
              "      <td>16.20</td>\n",
              "      <td>15.73</td>\n",
              "      <td>104.50</td>\n",
              "      <td>819.1</td>\n",
              "      <td>0.1126</td>\n",
              "      <td>0.1737</td>\n",
              "      <td>0.13620</td>\n",
              "      <td>0.08178</td>\n",
              "      <td>0.2487</td>\n",
              "      <td>0.06766</td>\n",
              "    </tr>\n",
              "  </tbody>\n",
              "</table>\n",
              "</div>"
            ],
            "text/plain": [
              "   radius_mean  texture_mean  ...  symmetry_worst  dimension_worst\n",
              "0        12.32         12.39  ...          0.2827          0.06771\n",
              "1        10.60         18.95  ...          0.2940          0.07587\n",
              "2        11.04         16.83  ...          0.2998          0.07881\n",
              "3        11.28         13.39  ...          0.2102          0.06784\n",
              "4        15.19         13.21  ...          0.2487          0.06766\n",
              "\n",
              "[5 rows x 30 columns]"
            ]
          },
          "metadata": {
            "tags": []
          },
          "execution_count": 7
        }
      ]
    },
    {
      "cell_type": "code",
      "metadata": {
        "id": "Ys7FM-HkI2Zb",
        "colab_type": "code",
        "colab": {
          "base_uri": "https://localhost:8080/",
          "height": 119
        },
        "outputId": "59731f0d-0365-49aa-9250-d9e6942c46f9"
      },
      "source": [
        "# output access\n",
        "y = data.diagnosis\n",
        "y.head()"
      ],
      "execution_count": 8,
      "outputs": [
        {
          "output_type": "execute_result",
          "data": {
            "text/plain": [
              "0    B\n",
              "1    B\n",
              "2    B\n",
              "3    B\n",
              "4    B\n",
              "Name: diagnosis, dtype: object"
            ]
          },
          "metadata": {
            "tags": []
          },
          "execution_count": 8
        }
      ]
    },
    {
      "cell_type": "code",
      "metadata": {
        "id": "or9vU1-mJAN5",
        "colab_type": "code",
        "colab": {}
      },
      "source": [
        "# preparing training and testing data\n",
        "from sklearn.model_selection import train_test_split\n",
        "X_train,X_test,y_train,y_test = train_test_split(X,y,test_size=0.30,random_state = 1)"
      ],
      "execution_count": 9,
      "outputs": []
    },
    {
      "cell_type": "markdown",
      "metadata": {
        "id": "GOa82jqkJPoF",
        "colab_type": "text"
      },
      "source": [
        "\n"
      ]
    },
    {
      "cell_type": "code",
      "metadata": {
        "id": "wCUFk9apJ-L9",
        "colab_type": "code",
        "colab": {
          "base_uri": "https://localhost:8080/",
          "height": 85
        },
        "outputId": "11c50a87-87f7-4891-d29e-72e9e020bf29"
      },
      "source": [
        "print(X_train.shape)\n",
        "print(X_test.shape)\n",
        "print(y_train.shape)\n",
        "print(y_test.shape)\n",
        "\n"
      ],
      "execution_count": 10,
      "outputs": [
        {
          "output_type": "stream",
          "text": [
            "(398, 30)\n",
            "(171, 30)\n",
            "(398,)\n",
            "(171,)\n"
          ],
          "name": "stdout"
        }
      ]
    },
    {
      "cell_type": "code",
      "metadata": {
        "id": "fBfsQv0BKRwV",
        "colab_type": "code",
        "colab": {
          "base_uri": "https://localhost:8080/",
          "height": 238
        },
        "outputId": "2e296b4b-dc23-45fd-c446-223c6953f515"
      },
      "source": [
        "from sklearn.preprocessing import StandardScaler\n",
        "scaler = StandardScaler()\n",
        "\n",
        "scaled_X_train = scaler.fit_transform(X_train)\n",
        "scaled_X_train"
      ],
      "execution_count": 11,
      "outputs": [
        {
          "output_type": "execute_result",
          "data": {
            "text/plain": [
              "array([[-0.62597235,  2.027343  , -0.64848473, ..., -0.65881245,\n",
              "        -0.76762028, -0.10463644],\n",
              "       [ 2.86346896,  0.18158215,  3.04094804, ...,  1.63896032,\n",
              "         0.50452244, -0.20470372],\n",
              "       [-0.61172973,  0.76082466, -0.56679988, ..., -0.08990281,\n",
              "        -1.18783774,  0.52010799],\n",
              "       ...,\n",
              "       [-1.4685656 , -0.11723343, -1.33744288, ..., -0.01063833,\n",
              "         0.36171416,  1.16973401],\n",
              "       [-0.7171251 , -0.74474614, -0.70129111, ..., -0.25516179,\n",
              "        -0.18161389, -0.19659016],\n",
              "       [-0.65445758, -1.09413051, -0.59320306, ..., -0.8194352 ,\n",
              "        -0.30800742,  1.0669622 ]])"
            ]
          },
          "metadata": {
            "tags": []
          },
          "execution_count": 11
        }
      ]
    },
    {
      "cell_type": "code",
      "metadata": {
        "id": "fC68-DzDMVB1",
        "colab_type": "code",
        "colab": {
          "base_uri": "https://localhost:8080/",
          "height": 439
        },
        "outputId": "9c953402-d3c5-4ecf-8e12-8a70b8eb2325"
      },
      "source": [
        "from sklearn.preprocessing import StandardScaler\n",
        "scaler = StandardScaler()\n",
        "\n",
        "scaled_X_train = pd.DataFrame(scaler.fit_transform(X_train),columns = X_train.columns)\n",
        "scaled_X_train"
      ],
      "execution_count": 12,
      "outputs": [
        {
          "output_type": "execute_result",
          "data": {
            "text/html": [
              "<div>\n",
              "<style scoped>\n",
              "    .dataframe tbody tr th:only-of-type {\n",
              "        vertical-align: middle;\n",
              "    }\n",
              "\n",
              "    .dataframe tbody tr th {\n",
              "        vertical-align: top;\n",
              "    }\n",
              "\n",
              "    .dataframe thead th {\n",
              "        text-align: right;\n",
              "    }\n",
              "</style>\n",
              "<table border=\"1\" class=\"dataframe\">\n",
              "  <thead>\n",
              "    <tr style=\"text-align: right;\">\n",
              "      <th></th>\n",
              "      <th>radius_mean</th>\n",
              "      <th>texture_mean</th>\n",
              "      <th>perimeter_mean</th>\n",
              "      <th>area_mean</th>\n",
              "      <th>smoothness_mean</th>\n",
              "      <th>compactness_mean</th>\n",
              "      <th>concavity_mean</th>\n",
              "      <th>points_mean</th>\n",
              "      <th>symmetry_mean</th>\n",
              "      <th>dimension_mean</th>\n",
              "      <th>radius_se</th>\n",
              "      <th>texture_se</th>\n",
              "      <th>perimeter_se</th>\n",
              "      <th>area_se</th>\n",
              "      <th>smoothness_se</th>\n",
              "      <th>compactness_se</th>\n",
              "      <th>concavity_se</th>\n",
              "      <th>points_se</th>\n",
              "      <th>symmetry_se</th>\n",
              "      <th>dimension_se</th>\n",
              "      <th>radius_worst</th>\n",
              "      <th>texture_worst</th>\n",
              "      <th>perimeter_worst</th>\n",
              "      <th>area_worst</th>\n",
              "      <th>smoothness_worst</th>\n",
              "      <th>compactness_worst</th>\n",
              "      <th>concavity_worst</th>\n",
              "      <th>points_worst</th>\n",
              "      <th>symmetry_worst</th>\n",
              "      <th>dimension_worst</th>\n",
              "    </tr>\n",
              "  </thead>\n",
              "  <tbody>\n",
              "    <tr>\n",
              "      <th>0</th>\n",
              "      <td>-0.625972</td>\n",
              "      <td>2.027343</td>\n",
              "      <td>-0.648485</td>\n",
              "      <td>-0.625252</td>\n",
              "      <td>-0.868174</td>\n",
              "      <td>-0.765564</td>\n",
              "      <td>-0.613654</td>\n",
              "      <td>-0.778710</td>\n",
              "      <td>-0.763924</td>\n",
              "      <td>-0.255216</td>\n",
              "      <td>-0.765534</td>\n",
              "      <td>0.863785</td>\n",
              "      <td>-0.661975</td>\n",
              "      <td>-0.566239</td>\n",
              "      <td>0.104165</td>\n",
              "      <td>0.022611</td>\n",
              "      <td>-0.073233</td>\n",
              "      <td>-0.435741</td>\n",
              "      <td>-0.412443</td>\n",
              "      <td>0.224860</td>\n",
              "      <td>-0.680354</td>\n",
              "      <td>2.006085</td>\n",
              "      <td>-0.682386</td>\n",
              "      <td>-0.651969</td>\n",
              "      <td>-0.494785</td>\n",
              "      <td>-0.439900</td>\n",
              "      <td>-0.432806</td>\n",
              "      <td>-0.658812</td>\n",
              "      <td>-0.767620</td>\n",
              "      <td>-0.104636</td>\n",
              "    </tr>\n",
              "    <tr>\n",
              "      <th>1</th>\n",
              "      <td>2.863469</td>\n",
              "      <td>0.181582</td>\n",
              "      <td>3.040948</td>\n",
              "      <td>3.154228</td>\n",
              "      <td>3.367497</td>\n",
              "      <td>3.296182</td>\n",
              "      <td>4.240248</td>\n",
              "      <td>3.926236</td>\n",
              "      <td>3.007180</td>\n",
              "      <td>0.815637</td>\n",
              "      <td>3.724581</td>\n",
              "      <td>3.380820</td>\n",
              "      <td>3.167060</td>\n",
              "      <td>3.876464</td>\n",
              "      <td>5.727954</td>\n",
              "      <td>4.077552</td>\n",
              "      <td>3.615609</td>\n",
              "      <td>1.060737</td>\n",
              "      <td>3.033739</td>\n",
              "      <td>2.513274</td>\n",
              "      <td>2.037283</td>\n",
              "      <td>-0.268556</td>\n",
              "      <td>2.201525</td>\n",
              "      <td>2.148313</td>\n",
              "      <td>1.611626</td>\n",
              "      <td>1.033639</td>\n",
              "      <td>1.457322</td>\n",
              "      <td>1.638960</td>\n",
              "      <td>0.504522</td>\n",
              "      <td>-0.204704</td>\n",
              "    </tr>\n",
              "    <tr>\n",
              "      <th>2</th>\n",
              "      <td>-0.611730</td>\n",
              "      <td>0.760825</td>\n",
              "      <td>-0.566800</td>\n",
              "      <td>-0.610060</td>\n",
              "      <td>-1.922704</td>\n",
              "      <td>0.016806</td>\n",
              "      <td>-0.125059</td>\n",
              "      <td>-0.511298</td>\n",
              "      <td>-2.257861</td>\n",
              "      <td>0.513637</td>\n",
              "      <td>-1.010177</td>\n",
              "      <td>0.381724</td>\n",
              "      <td>-0.540976</td>\n",
              "      <td>-0.653638</td>\n",
              "      <td>-0.701644</td>\n",
              "      <td>1.130036</td>\n",
              "      <td>0.438159</td>\n",
              "      <td>0.804547</td>\n",
              "      <td>0.479235</td>\n",
              "      <td>1.479730</td>\n",
              "      <td>-0.789648</td>\n",
              "      <td>0.504396</td>\n",
              "      <td>-0.613471</td>\n",
              "      <td>-0.715772</td>\n",
              "      <td>-1.911001</td>\n",
              "      <td>0.398067</td>\n",
              "      <td>0.088495</td>\n",
              "      <td>-0.089903</td>\n",
              "      <td>-1.187838</td>\n",
              "      <td>0.520108</td>\n",
              "    </tr>\n",
              "    <tr>\n",
              "      <th>3</th>\n",
              "      <td>-1.290248</td>\n",
              "      <td>-0.301120</td>\n",
              "      <td>-1.296600</td>\n",
              "      <td>-1.072999</td>\n",
              "      <td>-0.956637</td>\n",
              "      <td>-0.952383</td>\n",
              "      <td>-0.937373</td>\n",
              "      <td>-1.132869</td>\n",
              "      <td>-0.528230</td>\n",
              "      <td>0.171463</td>\n",
              "      <td>-0.253079</td>\n",
              "      <td>0.164708</td>\n",
              "      <td>-0.311446</td>\n",
              "      <td>-0.421893</td>\n",
              "      <td>1.386007</td>\n",
              "      <td>-0.725786</td>\n",
              "      <td>-0.789331</td>\n",
              "      <td>-1.300505</td>\n",
              "      <td>0.753503</td>\n",
              "      <td>-0.318397</td>\n",
              "      <td>-1.088104</td>\n",
              "      <td>-0.165386</td>\n",
              "      <td>-1.102499</td>\n",
              "      <td>-0.911339</td>\n",
              "      <td>0.282170</td>\n",
              "      <td>-0.810753</td>\n",
              "      <td>-0.986824</td>\n",
              "      <td>-1.349161</td>\n",
              "      <td>0.233679</td>\n",
              "      <td>-0.277185</td>\n",
              "    </tr>\n",
              "    <tr>\n",
              "      <th>4</th>\n",
              "      <td>-0.868097</td>\n",
              "      <td>-1.455008</td>\n",
              "      <td>-0.891889</td>\n",
              "      <td>-0.798962</td>\n",
              "      <td>0.056470</td>\n",
              "      <td>-1.009964</td>\n",
              "      <td>-0.874162</td>\n",
              "      <td>-0.819871</td>\n",
              "      <td>0.015680</td>\n",
              "      <td>-0.253830</td>\n",
              "      <td>-0.650027</td>\n",
              "      <td>-0.778958</td>\n",
              "      <td>-0.702154</td>\n",
              "      <td>-0.533396</td>\n",
              "      <td>0.696568</td>\n",
              "      <td>-0.927212</td>\n",
              "      <td>-0.727469</td>\n",
              "      <td>-0.590116</td>\n",
              "      <td>0.378383</td>\n",
              "      <td>-0.876847</td>\n",
              "      <td>-0.911553</td>\n",
              "      <td>-1.527878</td>\n",
              "      <td>-0.947815</td>\n",
              "      <td>-0.801807</td>\n",
              "      <td>0.079298</td>\n",
              "      <td>-1.031599</td>\n",
              "      <td>-0.953349</td>\n",
              "      <td>-0.899597</td>\n",
              "      <td>-0.091333</td>\n",
              "      <td>-0.873802</td>\n",
              "    </tr>\n",
              "    <tr>\n",
              "      <th>...</th>\n",
              "      <td>...</td>\n",
              "      <td>...</td>\n",
              "      <td>...</td>\n",
              "      <td>...</td>\n",
              "      <td>...</td>\n",
              "      <td>...</td>\n",
              "      <td>...</td>\n",
              "      <td>...</td>\n",
              "      <td>...</td>\n",
              "      <td>...</td>\n",
              "      <td>...</td>\n",
              "      <td>...</td>\n",
              "      <td>...</td>\n",
              "      <td>...</td>\n",
              "      <td>...</td>\n",
              "      <td>...</td>\n",
              "      <td>...</td>\n",
              "      <td>...</td>\n",
              "      <td>...</td>\n",
              "      <td>...</td>\n",
              "      <td>...</td>\n",
              "      <td>...</td>\n",
              "      <td>...</td>\n",
              "      <td>...</td>\n",
              "      <td>...</td>\n",
              "      <td>...</td>\n",
              "      <td>...</td>\n",
              "      <td>...</td>\n",
              "      <td>...</td>\n",
              "      <td>...</td>\n",
              "    </tr>\n",
              "    <tr>\n",
              "      <th>393</th>\n",
              "      <td>0.020642</td>\n",
              "      <td>0.721749</td>\n",
              "      <td>0.052850</td>\n",
              "      <td>-0.088357</td>\n",
              "      <td>0.495975</td>\n",
              "      <td>0.164872</td>\n",
              "      <td>0.715279</td>\n",
              "      <td>0.306987</td>\n",
              "      <td>0.363781</td>\n",
              "      <td>-0.424225</td>\n",
              "      <td>-0.726350</td>\n",
              "      <td>1.123493</td>\n",
              "      <td>-0.486941</td>\n",
              "      <td>-0.471360</td>\n",
              "      <td>-0.325108</td>\n",
              "      <td>0.019240</td>\n",
              "      <td>0.565632</td>\n",
              "      <td>0.158288</td>\n",
              "      <td>-0.774034</td>\n",
              "      <td>0.000659</td>\n",
              "      <td>-0.217956</td>\n",
              "      <td>1.414908</td>\n",
              "      <td>-0.103678</td>\n",
              "      <td>-0.282165</td>\n",
              "      <td>0.247639</td>\n",
              "      <td>0.101261</td>\n",
              "      <td>0.714434</td>\n",
              "      <td>0.313897</td>\n",
              "      <td>-0.355610</td>\n",
              "      <td>-0.019714</td>\n",
              "    </tr>\n",
              "    <tr>\n",
              "      <th>394</th>\n",
              "      <td>0.108947</td>\n",
              "      <td>0.487293</td>\n",
              "      <td>0.203018</td>\n",
              "      <td>-0.045359</td>\n",
              "      <td>0.608308</td>\n",
              "      <td>1.470041</td>\n",
              "      <td>0.667525</td>\n",
              "      <td>0.991437</td>\n",
              "      <td>1.545877</td>\n",
              "      <td>0.880747</td>\n",
              "      <td>-0.549853</td>\n",
              "      <td>-0.420169</td>\n",
              "      <td>-0.387648</td>\n",
              "      <td>-0.420474</td>\n",
              "      <td>-0.909073</td>\n",
              "      <td>0.284438</td>\n",
              "      <td>-0.170712</td>\n",
              "      <td>0.283904</td>\n",
              "      <td>-0.770344</td>\n",
              "      <td>-0.017819</td>\n",
              "      <td>0.271765</td>\n",
              "      <td>1.241321</td>\n",
              "      <td>0.441024</td>\n",
              "      <td>0.022571</td>\n",
              "      <td>0.873519</td>\n",
              "      <td>2.513966</td>\n",
              "      <td>1.332324</td>\n",
              "      <td>2.316447</td>\n",
              "      <td>2.214939</td>\n",
              "      <td>2.359723</td>\n",
              "    </tr>\n",
              "    <tr>\n",
              "      <th>395</th>\n",
              "      <td>-1.468566</td>\n",
              "      <td>-0.117233</td>\n",
              "      <td>-1.337443</td>\n",
              "      <td>-1.192819</td>\n",
              "      <td>0.206716</td>\n",
              "      <td>1.660150</td>\n",
              "      <td>1.358696</td>\n",
              "      <td>-0.011681</td>\n",
              "      <td>1.828710</td>\n",
              "      <td>3.400646</td>\n",
              "      <td>0.168402</td>\n",
              "      <td>1.230223</td>\n",
              "      <td>0.378529</td>\n",
              "      <td>-0.356613</td>\n",
              "      <td>0.986969</td>\n",
              "      <td>2.270611</td>\n",
              "      <td>2.674559</td>\n",
              "      <td>2.225986</td>\n",
              "      <td>1.734964</td>\n",
              "      <td>1.692845</td>\n",
              "      <td>-1.317201</td>\n",
              "      <td>-0.365175</td>\n",
              "      <td>-1.177433</td>\n",
              "      <td>-1.061538</td>\n",
              "      <td>-0.438671</td>\n",
              "      <td>0.727577</td>\n",
              "      <td>0.891988</td>\n",
              "      <td>-0.010638</td>\n",
              "      <td>0.361714</td>\n",
              "      <td>1.169734</td>\n",
              "    </tr>\n",
              "    <tr>\n",
              "      <th>396</th>\n",
              "      <td>-0.717125</td>\n",
              "      <td>-0.744746</td>\n",
              "      <td>-0.701291</td>\n",
              "      <td>-0.688315</td>\n",
              "      <td>1.127850</td>\n",
              "      <td>-0.251357</td>\n",
              "      <td>-0.585504</td>\n",
              "      <td>-0.471433</td>\n",
              "      <td>0.099079</td>\n",
              "      <td>0.156225</td>\n",
              "      <td>-0.151883</td>\n",
              "      <td>-0.116346</td>\n",
              "      <td>-0.182595</td>\n",
              "      <td>-0.288291</td>\n",
              "      <td>0.689185</td>\n",
              "      <td>-0.706121</td>\n",
              "      <td>-0.481896</td>\n",
              "      <td>-0.021871</td>\n",
              "      <td>0.088127</td>\n",
              "      <td>-0.222311</td>\n",
              "      <td>-0.632012</td>\n",
              "      <td>-0.661582</td>\n",
              "      <td>-0.637245</td>\n",
              "      <td>-0.604795</td>\n",
              "      <td>0.877835</td>\n",
              "      <td>-0.673766</td>\n",
              "      <td>-0.584793</td>\n",
              "      <td>-0.255162</td>\n",
              "      <td>-0.181614</td>\n",
              "      <td>-0.196590</td>\n",
              "    </tr>\n",
              "    <tr>\n",
              "      <th>397</th>\n",
              "      <td>-0.654458</td>\n",
              "      <td>-1.094131</td>\n",
              "      <td>-0.593203</td>\n",
              "      <td>-0.653057</td>\n",
              "      <td>1.296350</td>\n",
              "      <td>0.424443</td>\n",
              "      <td>-0.657009</td>\n",
              "      <td>-0.504827</td>\n",
              "      <td>0.613980</td>\n",
              "      <td>2.148316</td>\n",
              "      <td>-0.067041</td>\n",
              "      <td>-1.006114</td>\n",
              "      <td>0.033079</td>\n",
              "      <td>-0.339786</td>\n",
              "      <td>1.101231</td>\n",
              "      <td>1.231733</td>\n",
              "      <td>-0.130221</td>\n",
              "      <td>-0.116083</td>\n",
              "      <td>1.287280</td>\n",
              "      <td>2.327671</td>\n",
              "      <td>-0.667743</td>\n",
              "      <td>-1.493488</td>\n",
              "      <td>-0.646574</td>\n",
              "      <td>-0.677454</td>\n",
              "      <td>0.437561</td>\n",
              "      <td>-0.032024</td>\n",
              "      <td>-0.844259</td>\n",
              "      <td>-0.819435</td>\n",
              "      <td>-0.308007</td>\n",
              "      <td>1.066962</td>\n",
              "    </tr>\n",
              "  </tbody>\n",
              "</table>\n",
              "<p>398 rows × 30 columns</p>\n",
              "</div>"
            ],
            "text/plain": [
              "     radius_mean  texture_mean  ...  symmetry_worst  dimension_worst\n",
              "0      -0.625972      2.027343  ...       -0.767620        -0.104636\n",
              "1       2.863469      0.181582  ...        0.504522        -0.204704\n",
              "2      -0.611730      0.760825  ...       -1.187838         0.520108\n",
              "3      -1.290248     -0.301120  ...        0.233679        -0.277185\n",
              "4      -0.868097     -1.455008  ...       -0.091333        -0.873802\n",
              "..           ...           ...  ...             ...              ...\n",
              "393     0.020642      0.721749  ...       -0.355610        -0.019714\n",
              "394     0.108947      0.487293  ...        2.214939         2.359723\n",
              "395    -1.468566     -0.117233  ...        0.361714         1.169734\n",
              "396    -0.717125     -0.744746  ...       -0.181614        -0.196590\n",
              "397    -0.654458     -1.094131  ...       -0.308007         1.066962\n",
              "\n",
              "[398 rows x 30 columns]"
            ]
          },
          "metadata": {
            "tags": []
          },
          "execution_count": 12
        }
      ]
    },
    {
      "cell_type": "code",
      "metadata": {
        "id": "uH3RBfHMM3_d",
        "colab_type": "code",
        "colab": {
          "base_uri": "https://localhost:8080/",
          "height": 439
        },
        "outputId": "aeebabeb-f344-469b-ae7e-9681fd6da1d2"
      },
      "source": [
        "# scaling data\n",
        "from sklearn.preprocessing import StandardScaler\n",
        "scaler = StandardScaler()\n",
        "\n",
        "# scaling for training data\n",
        "scaled_X_train = pd.DataFrame(scaler.fit_transform(X_train),columns = X_train.columns)\n",
        "scaled_X_train\n",
        "\n",
        "#scaling for test data\n",
        "# testing the data based on training data\n",
        "scaled_X_test= pd.DataFrame(scaler.transform(X_test), columns = X_test.columns)\n",
        "scaled_X_test\n"
      ],
      "execution_count": 13,
      "outputs": [
        {
          "output_type": "execute_result",
          "data": {
            "text/html": [
              "<div>\n",
              "<style scoped>\n",
              "    .dataframe tbody tr th:only-of-type {\n",
              "        vertical-align: middle;\n",
              "    }\n",
              "\n",
              "    .dataframe tbody tr th {\n",
              "        vertical-align: top;\n",
              "    }\n",
              "\n",
              "    .dataframe thead th {\n",
              "        text-align: right;\n",
              "    }\n",
              "</style>\n",
              "<table border=\"1\" class=\"dataframe\">\n",
              "  <thead>\n",
              "    <tr style=\"text-align: right;\">\n",
              "      <th></th>\n",
              "      <th>radius_mean</th>\n",
              "      <th>texture_mean</th>\n",
              "      <th>perimeter_mean</th>\n",
              "      <th>area_mean</th>\n",
              "      <th>smoothness_mean</th>\n",
              "      <th>compactness_mean</th>\n",
              "      <th>concavity_mean</th>\n",
              "      <th>points_mean</th>\n",
              "      <th>symmetry_mean</th>\n",
              "      <th>dimension_mean</th>\n",
              "      <th>radius_se</th>\n",
              "      <th>texture_se</th>\n",
              "      <th>perimeter_se</th>\n",
              "      <th>area_se</th>\n",
              "      <th>smoothness_se</th>\n",
              "      <th>compactness_se</th>\n",
              "      <th>concavity_se</th>\n",
              "      <th>points_se</th>\n",
              "      <th>symmetry_se</th>\n",
              "      <th>dimension_se</th>\n",
              "      <th>radius_worst</th>\n",
              "      <th>texture_worst</th>\n",
              "      <th>perimeter_worst</th>\n",
              "      <th>area_worst</th>\n",
              "      <th>smoothness_worst</th>\n",
              "      <th>compactness_worst</th>\n",
              "      <th>concavity_worst</th>\n",
              "      <th>points_worst</th>\n",
              "      <th>symmetry_worst</th>\n",
              "      <th>dimension_worst</th>\n",
              "    </tr>\n",
              "  </thead>\n",
              "  <tbody>\n",
              "    <tr>\n",
              "      <th>0</th>\n",
              "      <td>0.257070</td>\n",
              "      <td>0.599924</td>\n",
              "      <td>0.196830</td>\n",
              "      <td>0.149563</td>\n",
              "      <td>-0.433584</td>\n",
              "      <td>-0.650219</td>\n",
              "      <td>-0.463104</td>\n",
              "      <td>-0.419141</td>\n",
              "      <td>-0.760297</td>\n",
              "      <td>-0.837051</td>\n",
              "      <td>-0.359045</td>\n",
              "      <td>-0.685747</td>\n",
              "      <td>-0.393652</td>\n",
              "      <td>-0.240852</td>\n",
              "      <td>-0.830672</td>\n",
              "      <td>-0.853328</td>\n",
              "      <td>-0.574876</td>\n",
              "      <td>-0.426485</td>\n",
              "      <td>-1.211878</td>\n",
              "      <td>-0.872741</td>\n",
              "      <td>0.372651</td>\n",
              "      <td>0.992404</td>\n",
              "      <td>0.299582</td>\n",
              "      <td>0.263142</td>\n",
              "      <td>0.286486</td>\n",
              "      <td>-0.315871</td>\n",
              "      <td>-0.006201</td>\n",
              "      <td>0.565151</td>\n",
              "      <td>-0.393364</td>\n",
              "      <td>-0.278267</td>\n",
              "    </tr>\n",
              "    <tr>\n",
              "      <th>1</th>\n",
              "      <td>3.285050</td>\n",
              "      <td>-0.448229</td>\n",
              "      <td>3.370988</td>\n",
              "      <td>3.867987</td>\n",
              "      <td>1.275288</td>\n",
              "      <td>2.374886</td>\n",
              "      <td>3.109242</td>\n",
              "      <td>3.669956</td>\n",
              "      <td>0.472563</td>\n",
              "      <td>-0.231665</td>\n",
              "      <td>1.972557</td>\n",
              "      <td>-0.655507</td>\n",
              "      <td>1.973229</td>\n",
              "      <td>2.256623</td>\n",
              "      <td>-0.235105</td>\n",
              "      <td>0.951927</td>\n",
              "      <td>0.423537</td>\n",
              "      <td>0.541746</td>\n",
              "      <td>0.313199</td>\n",
              "      <td>-0.151683</td>\n",
              "      <td>3.531667</td>\n",
              "      <td>-0.335698</td>\n",
              "      <td>3.658076</td>\n",
              "      <td>4.246762</td>\n",
              "      <td>0.895101</td>\n",
              "      <td>2.078321</td>\n",
              "      <td>1.764137</td>\n",
              "      <td>2.398703</td>\n",
              "      <td>1.272732</td>\n",
              "      <td>0.231265</td>\n",
              "    </tr>\n",
              "    <tr>\n",
              "      <th>2</th>\n",
              "      <td>-0.121784</td>\n",
              "      <td>0.661986</td>\n",
              "      <td>-0.076691</td>\n",
              "      <td>-0.205596</td>\n",
              "      <td>1.633350</td>\n",
              "      <td>0.371432</td>\n",
              "      <td>0.617258</td>\n",
              "      <td>0.407169</td>\n",
              "      <td>0.030184</td>\n",
              "      <td>0.815637</td>\n",
              "      <td>0.692442</td>\n",
              "      <td>1.587766</td>\n",
              "      <td>0.903630</td>\n",
              "      <td>0.160358</td>\n",
              "      <td>2.377447</td>\n",
              "      <td>0.449063</td>\n",
              "      <td>0.573130</td>\n",
              "      <td>1.454112</td>\n",
              "      <td>0.748583</td>\n",
              "      <td>0.226503</td>\n",
              "      <td>0.013242</td>\n",
              "      <td>1.372330</td>\n",
              "      <td>0.116009</td>\n",
              "      <td>-0.140100</td>\n",
              "      <td>1.788599</td>\n",
              "      <td>0.341298</td>\n",
              "      <td>0.513205</td>\n",
              "      <td>0.779015</td>\n",
              "      <td>0.271433</td>\n",
              "      <td>0.511454</td>\n",
              "    </tr>\n",
              "    <tr>\n",
              "      <th>3</th>\n",
              "      <td>0.812532</td>\n",
              "      <td>-0.075859</td>\n",
              "      <td>0.862685</td>\n",
              "      <td>0.671839</td>\n",
              "      <td>1.219121</td>\n",
              "      <td>0.928963</td>\n",
              "      <td>1.277012</td>\n",
              "      <td>1.539463</td>\n",
              "      <td>1.107124</td>\n",
              "      <td>0.050940</td>\n",
              "      <td>-0.408792</td>\n",
              "      <td>-0.961287</td>\n",
              "      <td>-0.367789</td>\n",
              "      <td>-0.198886</td>\n",
              "      <td>-0.529373</td>\n",
              "      <td>-0.303829</td>\n",
              "      <td>-0.030492</td>\n",
              "      <td>0.336794</td>\n",
              "      <td>-1.111026</td>\n",
              "      <td>-0.582429</td>\n",
              "      <td>0.685821</td>\n",
              "      <td>-0.121171</td>\n",
              "      <td>0.775068</td>\n",
              "      <td>0.550527</td>\n",
              "      <td>1.641841</td>\n",
              "      <td>0.842350</td>\n",
              "      <td>1.085641</td>\n",
              "      <td>2.080149</td>\n",
              "      <td>0.319036</td>\n",
              "      <td>0.364328</td>\n",
              "    </tr>\n",
              "    <tr>\n",
              "      <th>4</th>\n",
              "      <td>-0.700034</td>\n",
              "      <td>-1.238941</td>\n",
              "      <td>-0.752860</td>\n",
              "      <td>-0.668823</td>\n",
              "      <td>-1.306275</td>\n",
              "      <td>-1.151266</td>\n",
              "      <td>-0.841111</td>\n",
              "      <td>-0.566955</td>\n",
              "      <td>0.998342</td>\n",
              "      <td>-0.242748</td>\n",
              "      <td>0.497545</td>\n",
              "      <td>0.086440</td>\n",
              "      <td>0.354513</td>\n",
              "      <td>-0.080287</td>\n",
              "      <td>0.350267</td>\n",
              "      <td>-0.621842</td>\n",
              "      <td>-0.608244</td>\n",
              "      <td>1.100405</td>\n",
              "      <td>1.033920</td>\n",
              "      <td>-0.718346</td>\n",
              "      <td>-0.634114</td>\n",
              "      <td>-1.206907</td>\n",
              "      <td>-0.693521</td>\n",
              "      <td>-0.633895</td>\n",
              "      <td>-1.237208</td>\n",
              "      <td>-1.060662</td>\n",
              "      <td>-0.971388</td>\n",
              "      <td>-0.483234</td>\n",
              "      <td>0.305904</td>\n",
              "      <td>-0.919238</td>\n",
              "    </tr>\n",
              "    <tr>\n",
              "      <th>...</th>\n",
              "      <td>...</td>\n",
              "      <td>...</td>\n",
              "      <td>...</td>\n",
              "      <td>...</td>\n",
              "      <td>...</td>\n",
              "      <td>...</td>\n",
              "      <td>...</td>\n",
              "      <td>...</td>\n",
              "      <td>...</td>\n",
              "      <td>...</td>\n",
              "      <td>...</td>\n",
              "      <td>...</td>\n",
              "      <td>...</td>\n",
              "      <td>...</td>\n",
              "      <td>...</td>\n",
              "      <td>...</td>\n",
              "      <td>...</td>\n",
              "      <td>...</td>\n",
              "      <td>...</td>\n",
              "      <td>...</td>\n",
              "      <td>...</td>\n",
              "      <td>...</td>\n",
              "      <td>...</td>\n",
              "      <td>...</td>\n",
              "      <td>...</td>\n",
              "      <td>...</td>\n",
              "      <td>...</td>\n",
              "      <td>...</td>\n",
              "      <td>...</td>\n",
              "      <td>...</td>\n",
              "    </tr>\n",
              "    <tr>\n",
              "      <th>166</th>\n",
              "      <td>-0.765550</td>\n",
              "      <td>1.038953</td>\n",
              "      <td>-0.741308</td>\n",
              "      <td>-0.737046</td>\n",
              "      <td>-0.289657</td>\n",
              "      <td>-0.078248</td>\n",
              "      <td>0.274186</td>\n",
              "      <td>-0.219553</td>\n",
              "      <td>-1.587039</td>\n",
              "      <td>0.390344</td>\n",
              "      <td>-0.603347</td>\n",
              "      <td>2.996594</td>\n",
              "      <td>-0.468006</td>\n",
              "      <td>-0.503189</td>\n",
              "      <td>0.408629</td>\n",
              "      <td>0.243422</td>\n",
              "      <td>0.975420</td>\n",
              "      <td>0.143413</td>\n",
              "      <td>-0.728527</td>\n",
              "      <td>0.403893</td>\n",
              "      <td>-0.808564</td>\n",
              "      <td>1.888177</td>\n",
              "      <td>-0.766348</td>\n",
              "      <td>-0.741438</td>\n",
              "      <td>-0.106307</td>\n",
              "      <td>-0.032024</td>\n",
              "      <td>0.428452</td>\n",
              "      <td>-0.279390</td>\n",
              "      <td>-1.317514</td>\n",
              "      <td>0.186370</td>\n",
              "    </tr>\n",
              "    <tr>\n",
              "      <th>167</th>\n",
              "      <td>2.299461</td>\n",
              "      <td>0.059757</td>\n",
              "      <td>2.488131</td>\n",
              "      <td>2.431870</td>\n",
              "      <td>2.517976</td>\n",
              "      <td>3.115213</td>\n",
              "      <td>4.235221</td>\n",
              "      <td>3.436974</td>\n",
              "      <td>2.648200</td>\n",
              "      <td>1.040059</td>\n",
              "      <td>2.722840</td>\n",
              "      <td>0.579174</td>\n",
              "      <td>3.279285</td>\n",
              "      <td>2.599243</td>\n",
              "      <td>-0.183775</td>\n",
              "      <td>3.438155</td>\n",
              "      <td>2.723299</td>\n",
              "      <td>2.148303</td>\n",
              "      <td>1.268831</td>\n",
              "      <td>0.526670</td>\n",
              "      <td>2.537513</td>\n",
              "      <td>0.389764</td>\n",
              "      <td>2.980960</td>\n",
              "      <td>2.667051</td>\n",
              "      <td>1.633208</td>\n",
              "      <td>2.732405</td>\n",
              "      <td>3.258910</td>\n",
              "      <td>2.629019</td>\n",
              "      <td>1.871871</td>\n",
              "      <td>0.758106</td>\n",
              "    </tr>\n",
              "    <tr>\n",
              "      <th>168</th>\n",
              "      <td>-0.554759</td>\n",
              "      <td>-0.337897</td>\n",
              "      <td>-0.586602</td>\n",
              "      <td>-0.574228</td>\n",
              "      <td>-0.715822</td>\n",
              "      <td>-0.723704</td>\n",
              "      <td>-0.635017</td>\n",
              "      <td>-0.678787</td>\n",
              "      <td>0.523328</td>\n",
              "      <td>-0.083436</td>\n",
              "      <td>-0.667404</td>\n",
              "      <td>-0.421770</td>\n",
              "      <td>-0.676754</td>\n",
              "      <td>-0.512515</td>\n",
              "      <td>-0.534295</td>\n",
              "      <td>-0.554419</td>\n",
              "      <td>-0.428283</td>\n",
              "      <td>-0.641023</td>\n",
              "      <td>-0.346028</td>\n",
              "      <td>-0.521656</td>\n",
              "      <td>-0.575264</td>\n",
              "      <td>-0.067130</td>\n",
              "      <td>-0.636342</td>\n",
              "      <td>-0.578768</td>\n",
              "      <td>-0.455937</td>\n",
              "      <td>-0.481860</td>\n",
              "      <td>-0.370307</td>\n",
              "      <td>-0.495049</td>\n",
              "      <td>0.325602</td>\n",
              "      <td>-0.138172</td>\n",
              "    </tr>\n",
              "    <tr>\n",
              "      <th>169</th>\n",
              "      <td>-0.554759</td>\n",
              "      <td>0.696464</td>\n",
              "      <td>-0.590315</td>\n",
              "      <td>-0.556456</td>\n",
              "      <td>-1.040185</td>\n",
              "      <td>-0.994060</td>\n",
              "      <td>-0.907841</td>\n",
              "      <td>-0.955777</td>\n",
              "      <td>-1.021374</td>\n",
              "      <td>-0.432537</td>\n",
              "      <td>-0.654116</td>\n",
              "      <td>-0.143029</td>\n",
              "      <td>-0.633804</td>\n",
              "      <td>-0.481497</td>\n",
              "      <td>-0.682659</td>\n",
              "      <td>-0.755002</td>\n",
              "      <td>-0.823074</td>\n",
              "      <td>-1.198525</td>\n",
              "      <td>-0.580939</td>\n",
              "      <td>-0.556560</td>\n",
              "      <td>-0.453359</td>\n",
              "      <td>1.041533</td>\n",
              "      <td>-0.451565</td>\n",
              "      <td>-0.472670</td>\n",
              "      <td>-0.287597</td>\n",
              "      <td>-0.471987</td>\n",
              "      <td>-0.707897</td>\n",
              "      <td>-0.775615</td>\n",
              "      <td>0.304263</td>\n",
              "      <td>-0.099768</td>\n",
              "    </tr>\n",
              "    <tr>\n",
              "      <th>170</th>\n",
              "      <td>-0.682943</td>\n",
              "      <td>-0.650504</td>\n",
              "      <td>-0.556899</td>\n",
              "      <td>-0.655350</td>\n",
              "      <td>0.868079</td>\n",
              "      <td>1.162943</td>\n",
              "      <td>0.961587</td>\n",
              "      <td>0.637304</td>\n",
              "      <td>3.090579</td>\n",
              "      <td>1.499986</td>\n",
              "      <td>-0.327698</td>\n",
              "      <td>0.367494</td>\n",
              "      <td>-0.308675</td>\n",
              "      <td>-0.346070</td>\n",
              "      <td>-0.566288</td>\n",
              "      <td>0.609193</td>\n",
              "      <td>0.567131</td>\n",
              "      <td>1.095446</td>\n",
              "      <td>4.363261</td>\n",
              "      <td>0.361598</td>\n",
              "      <td>-0.543736</td>\n",
              "      <td>0.122833</td>\n",
              "      <td>-0.475941</td>\n",
              "      <td>-0.529063</td>\n",
              "      <td>0.269221</td>\n",
              "      <td>0.939846</td>\n",
              "      <td>0.842273</td>\n",
              "      <td>1.066162</td>\n",
              "      <td>4.693565</td>\n",
              "      <td>1.034508</td>\n",
              "    </tr>\n",
              "  </tbody>\n",
              "</table>\n",
              "<p>171 rows × 30 columns</p>\n",
              "</div>"
            ],
            "text/plain": [
              "     radius_mean  texture_mean  ...  symmetry_worst  dimension_worst\n",
              "0       0.257070      0.599924  ...       -0.393364        -0.278267\n",
              "1       3.285050     -0.448229  ...        1.272732         0.231265\n",
              "2      -0.121784      0.661986  ...        0.271433         0.511454\n",
              "3       0.812532     -0.075859  ...        0.319036         0.364328\n",
              "4      -0.700034     -1.238941  ...        0.305904        -0.919238\n",
              "..           ...           ...  ...             ...              ...\n",
              "166    -0.765550      1.038953  ...       -1.317514         0.186370\n",
              "167     2.299461      0.059757  ...        1.871871         0.758106\n",
              "168    -0.554759     -0.337897  ...        0.325602        -0.138172\n",
              "169    -0.554759      0.696464  ...        0.304263        -0.099768\n",
              "170    -0.682943     -0.650504  ...        4.693565         1.034508\n",
              "\n",
              "[171 rows x 30 columns]"
            ]
          },
          "metadata": {
            "tags": []
          },
          "execution_count": 13
        }
      ]
    },
    {
      "cell_type": "code",
      "metadata": {
        "id": "1kAlTVa8Npxl",
        "colab_type": "code",
        "colab": {
          "base_uri": "https://localhost:8080/",
          "height": 68
        },
        "outputId": "bd6ae72f-a0a4-45ac-f3f8-44a54fda8d7c"
      },
      "source": [
        "## model building\n",
        "from sklearn.neighbors import KNeighborsClassifier\n",
        "knn = KNeighborsClassifier(n_neighbors = 6, metric='euclidean')\n",
        "# apply knn object on the data set\n",
        "# syntex : object name.fit(inpur and output)\n",
        "knn.fit(scaled_X_train,y_train)"
      ],
      "execution_count": 14,
      "outputs": [
        {
          "output_type": "execute_result",
          "data": {
            "text/plain": [
              "KNeighborsClassifier(algorithm='auto', leaf_size=30, metric='euclidean',\n",
              "                     metric_params=None, n_jobs=None, n_neighbors=6, p=2,\n",
              "                     weights='uniform')"
            ]
          },
          "metadata": {
            "tags": []
          },
          "execution_count": 14
        }
      ]
    },
    {
      "cell_type": "code",
      "metadata": {
        "id": "9VyLT06CPAfH",
        "colab_type": "code",
        "colab": {
          "base_uri": "https://localhost:8080/",
          "height": 544
        },
        "outputId": "ceff7d0a-b46f-4db6-b5e0-0943668fdc3d"
      },
      "source": [
        "# predictions on the data\n",
        "# predict fuctions==>gives the predicted values\n",
        "# syntex : object name.predict(input)\n",
        "y_train_pred = knn.predict(scaled_X_train)\n",
        "y_train_pred"
      ],
      "execution_count": 15,
      "outputs": [
        {
          "output_type": "execute_result",
          "data": {
            "text/plain": [
              "array(['B', 'M', 'B', 'B', 'B', 'B', 'M', 'B', 'B', 'M', 'B', 'B', 'B',\n",
              "       'B', 'M', 'B', 'M', 'M', 'B', 'M', 'M', 'B', 'M', 'B', 'B', 'B',\n",
              "       'M', 'B', 'B', 'M', 'B', 'B', 'B', 'M', 'B', 'M', 'M', 'B', 'B',\n",
              "       'B', 'B', 'B', 'B', 'B', 'B', 'B', 'M', 'B', 'B', 'B', 'B', 'M',\n",
              "       'M', 'B', 'M', 'B', 'B', 'M', 'B', 'M', 'M', 'B', 'B', 'B', 'M',\n",
              "       'B', 'M', 'M', 'B', 'B', 'B', 'B', 'M', 'M', 'M', 'B', 'B', 'B',\n",
              "       'M', 'B', 'B', 'M', 'M', 'B', 'M', 'B', 'B', 'M', 'B', 'B', 'B',\n",
              "       'B', 'B', 'B', 'M', 'B', 'M', 'M', 'M', 'B', 'B', 'B', 'B', 'M',\n",
              "       'M', 'B', 'B', 'B', 'B', 'M', 'M', 'B', 'B', 'M', 'M', 'B', 'B',\n",
              "       'M', 'M', 'B', 'B', 'B', 'M', 'B', 'M', 'B', 'M', 'B', 'B', 'B',\n",
              "       'M', 'M', 'B', 'B', 'B', 'M', 'M', 'B', 'M', 'B', 'B', 'B', 'B',\n",
              "       'M', 'M', 'B', 'M', 'B', 'B', 'B', 'B', 'B', 'M', 'B', 'B', 'M',\n",
              "       'B', 'M', 'B', 'B', 'M', 'B', 'M', 'B', 'B', 'B', 'M', 'M', 'B',\n",
              "       'M', 'B', 'B', 'M', 'B', 'M', 'B', 'B', 'B', 'M', 'M', 'B', 'B',\n",
              "       'M', 'M', 'B', 'M', 'B', 'M', 'B', 'M', 'B', 'M', 'B', 'M', 'B',\n",
              "       'M', 'B', 'M', 'B', 'B', 'B', 'B', 'B', 'B', 'M', 'B', 'B', 'B',\n",
              "       'B', 'B', 'M', 'M', 'M', 'B', 'M', 'M', 'M', 'B', 'B', 'B', 'M',\n",
              "       'B', 'B', 'B', 'B', 'B', 'M', 'B', 'M', 'M', 'M', 'B', 'B', 'B',\n",
              "       'B', 'B', 'M', 'B', 'B', 'M', 'M', 'B', 'B', 'B', 'M', 'B', 'B',\n",
              "       'B', 'B', 'M', 'B', 'M', 'B', 'B', 'B', 'M', 'M', 'M', 'M', 'M',\n",
              "       'B', 'B', 'B', 'B', 'M', 'M', 'B', 'M', 'B', 'B', 'M', 'B', 'M',\n",
              "       'M', 'M', 'M', 'B', 'B', 'B', 'B', 'B', 'B', 'B', 'B', 'B', 'M',\n",
              "       'M', 'B', 'B', 'B', 'B', 'M', 'B', 'B', 'B', 'M', 'B', 'B', 'B',\n",
              "       'B', 'B', 'B', 'B', 'B', 'B', 'B', 'M', 'M', 'B', 'M', 'B', 'B',\n",
              "       'M', 'M', 'M', 'B', 'B', 'B', 'M', 'M', 'B', 'B', 'B', 'B', 'B',\n",
              "       'M', 'B', 'B', 'M', 'B', 'B', 'B', 'B', 'M', 'M', 'B', 'M', 'M',\n",
              "       'B', 'B', 'B', 'M', 'B', 'B', 'B', 'B', 'M', 'B', 'B', 'B', 'B',\n",
              "       'B', 'M', 'M', 'B', 'B', 'M', 'B', 'B', 'B', 'M', 'M', 'M', 'B',\n",
              "       'B', 'B', 'B', 'M', 'M', 'M', 'M', 'B', 'B', 'M', 'B', 'M', 'M',\n",
              "       'M', 'B', 'B', 'B', 'B', 'M', 'M', 'B', 'B', 'B', 'B', 'B', 'M',\n",
              "       'B', 'M', 'M', 'M', 'M', 'B', 'B', 'B'], dtype=object)"
            ]
          },
          "metadata": {
            "tags": []
          },
          "execution_count": 15
        }
      ]
    },
    {
      "cell_type": "code",
      "metadata": {
        "id": "J4GlhhlRQjeH",
        "colab_type": "code",
        "colab": {
          "base_uri": "https://localhost:8080/",
          "height": 170
        },
        "outputId": "6d8cdb38-e2ba-45e3-daf8-05635122581c"
      },
      "source": [
        "# check the acuracy ,classification report \n",
        "from sklearn.metrics import classification_report\n",
        "print(classification_report(y_train,y_train_pred))"
      ],
      "execution_count": 16,
      "outputs": [
        {
          "output_type": "stream",
          "text": [
            "              precision    recall  f1-score   support\n",
            "\n",
            "           B       0.96      0.99      0.98       243\n",
            "           M       0.99      0.94      0.96       155\n",
            "\n",
            "    accuracy                           0.97       398\n",
            "   macro avg       0.98      0.97      0.97       398\n",
            "weighted avg       0.97      0.97      0.97       398\n",
            "\n"
          ],
          "name": "stdout"
        }
      ]
    },
    {
      "cell_type": "code",
      "metadata": {
        "id": "hD34x_SQRDZ4",
        "colab_type": "code",
        "colab": {
          "base_uri": "https://localhost:8080/",
          "height": 340
        },
        "outputId": "88414257-38ff-4526-8ec9-499e0012b432"
      },
      "source": [
        "from sklearn.metrics import accuracy_score\n",
        "#check the optimum k-vakue\n",
        "# build the models with multiple k values\n",
        "scores = []\n",
        "for k in range (1,20):\n",
        "  knn_model = KNeighborsClassifier(n_neighbors=k)\n",
        "  knn_model.fit(scaled_X_train,y_train)\n",
        "  pred_test = knn_model.predict(scaled_X_test)\n",
        "  scores.append(accuracy_score(y_test , pred_test))\n",
        "scores"
      ],
      "execution_count": 17,
      "outputs": [
        {
          "output_type": "execute_result",
          "data": {
            "text/plain": [
              "[0.9590643274853801,\n",
              " 0.9590643274853801,\n",
              " 0.9649122807017544,\n",
              " 0.9649122807017544,\n",
              " 0.9649122807017544,\n",
              " 0.9707602339181286,\n",
              " 0.9649122807017544,\n",
              " 0.9649122807017544,\n",
              " 0.9707602339181286,\n",
              " 0.9707602339181286,\n",
              " 0.9766081871345029,\n",
              " 0.9707602339181286,\n",
              " 0.9766081871345029,\n",
              " 0.9707602339181286,\n",
              " 0.9766081871345029,\n",
              " 0.9649122807017544,\n",
              " 0.9649122807017544,\n",
              " 0.9649122807017544,\n",
              " 0.9649122807017544]"
            ]
          },
          "metadata": {
            "tags": []
          },
          "execution_count": 17
        }
      ]
    },
    {
      "cell_type": "code",
      "metadata": {
        "id": "rkYCWy8HSlub",
        "colab_type": "code",
        "colab": {
          "base_uri": "https://localhost:8080/",
          "height": 282
        },
        "outputId": "93ec6095-54f7-48f4-ba94-6ca0ccd4f546"
      },
      "source": [
        "# plot of k values and scores\n",
        "plt.plot(range(1,20),scores , marker = 'o',markerfacecolor = 'r',linestyle='--')"
      ],
      "execution_count": 18,
      "outputs": [
        {
          "output_type": "execute_result",
          "data": {
            "text/plain": [
              "[<matplotlib.lines.Line2D at 0x7f21b2cbc4a8>]"
            ]
          },
          "metadata": {
            "tags": []
          },
          "execution_count": 18
        },
        {
          "output_type": "display_data",
          "data": {
            "image/png": "[encoded data removed]",
            "text/plain": [
              "<Figure size 432x288 with 1 Axes>"
            ]
          },
          "metadata": {
            "tags": [],
            "needs_background": "light"
          }
        }
      ]
    },
    {
      "cell_type": "code",
      "metadata": {
        "id": "qH5tXFX2S8HQ",
        "colab_type": "code",
        "colab": {
          "base_uri": "https://localhost:8080/",
          "height": 68
        },
        "outputId": "a7d5b090-fbd1-4bf7-9c3e-30fe3ab9f80c"
      },
      "source": [
        "## optimum k value is 10\n",
        "final_model = KNeighborsClassifier(n_neighbors=11,metric = 'euclidean')\n",
        "final_model.fit(scaled_X_train,y_train)"
      ],
      "execution_count": 19,
      "outputs": [
        {
          "output_type": "execute_result",
          "data": {
            "text/plain": [
              "KNeighborsClassifier(algorithm='auto', leaf_size=30, metric='euclidean',\n",
              "                     metric_params=None, n_jobs=None, n_neighbors=11, p=2,\n",
              "                     weights='uniform')"
            ]
          },
          "metadata": {
            "tags": []
          },
          "execution_count": 19
        }
      ]
    },
    {
      "cell_type": "code",
      "metadata": {
        "id": "39-g6qSaUFsC",
        "colab_type": "code",
        "colab": {
          "base_uri": "https://localhost:8080/",
          "height": 544
        },
        "outputId": "a21a54f4-7b38-46f6-b68a-f242d6240813"
      },
      "source": [
        "# predict on training data\n",
        "final_train_pred = final_model.predict(scaled_X_train)\n",
        "final_train_pred"
      ],
      "execution_count": 20,
      "outputs": [
        {
          "output_type": "execute_result",
          "data": {
            "text/plain": [
              "array(['B', 'M', 'B', 'B', 'B', 'B', 'M', 'B', 'B', 'M', 'B', 'B', 'B',\n",
              "       'B', 'M', 'B', 'M', 'M', 'B', 'M', 'M', 'B', 'M', 'B', 'B', 'B',\n",
              "       'M', 'B', 'B', 'M', 'B', 'B', 'B', 'M', 'B', 'M', 'M', 'B', 'B',\n",
              "       'B', 'B', 'B', 'B', 'B', 'B', 'B', 'M', 'B', 'B', 'B', 'B', 'M',\n",
              "       'M', 'B', 'M', 'B', 'B', 'M', 'B', 'M', 'M', 'B', 'B', 'B', 'M',\n",
              "       'B', 'M', 'M', 'B', 'B', 'B', 'B', 'M', 'M', 'M', 'B', 'B', 'B',\n",
              "       'M', 'B', 'B', 'M', 'M', 'B', 'M', 'B', 'B', 'M', 'B', 'B', 'B',\n",
              "       'B', 'B', 'B', 'M', 'B', 'M', 'M', 'M', 'B', 'B', 'B', 'B', 'M',\n",
              "       'M', 'B', 'B', 'B', 'B', 'B', 'M', 'B', 'B', 'M', 'M', 'B', 'B',\n",
              "       'M', 'M', 'B', 'B', 'B', 'M', 'B', 'M', 'B', 'M', 'B', 'B', 'B',\n",
              "       'M', 'M', 'B', 'B', 'B', 'M', 'M', 'B', 'M', 'B', 'B', 'B', 'B',\n",
              "       'M', 'M', 'B', 'M', 'B', 'B', 'B', 'B', 'B', 'M', 'B', 'B', 'M',\n",
              "       'B', 'M', 'B', 'B', 'M', 'B', 'M', 'B', 'B', 'B', 'M', 'M', 'B',\n",
              "       'M', 'B', 'B', 'M', 'B', 'M', 'B', 'B', 'B', 'M', 'M', 'B', 'B',\n",
              "       'M', 'M', 'B', 'M', 'B', 'M', 'B', 'M', 'B', 'M', 'B', 'M', 'B',\n",
              "       'M', 'B', 'M', 'B', 'B', 'B', 'B', 'B', 'B', 'M', 'B', 'B', 'B',\n",
              "       'B', 'B', 'M', 'M', 'M', 'B', 'M', 'M', 'M', 'B', 'B', 'B', 'M',\n",
              "       'B', 'B', 'B', 'B', 'B', 'M', 'B', 'M', 'M', 'M', 'B', 'B', 'B',\n",
              "       'B', 'B', 'M', 'B', 'B', 'M', 'M', 'B', 'B', 'B', 'M', 'B', 'B',\n",
              "       'B', 'B', 'M', 'B', 'M', 'B', 'B', 'B', 'M', 'M', 'M', 'M', 'M',\n",
              "       'B', 'B', 'B', 'B', 'M', 'M', 'B', 'M', 'B', 'B', 'M', 'B', 'M',\n",
              "       'M', 'M', 'M', 'B', 'B', 'B', 'B', 'B', 'B', 'B', 'B', 'B', 'M',\n",
              "       'M', 'B', 'B', 'B', 'B', 'M', 'B', 'B', 'B', 'M', 'B', 'B', 'B',\n",
              "       'B', 'B', 'B', 'B', 'B', 'B', 'B', 'M', 'M', 'B', 'M', 'B', 'B',\n",
              "       'M', 'M', 'M', 'B', 'B', 'B', 'M', 'M', 'B', 'B', 'B', 'B', 'B',\n",
              "       'M', 'B', 'B', 'M', 'B', 'B', 'B', 'B', 'M', 'M', 'B', 'M', 'M',\n",
              "       'B', 'B', 'B', 'M', 'B', 'B', 'B', 'B', 'M', 'B', 'B', 'B', 'B',\n",
              "       'B', 'M', 'M', 'B', 'B', 'M', 'B', 'B', 'B', 'M', 'M', 'M', 'B',\n",
              "       'B', 'B', 'B', 'M', 'M', 'M', 'M', 'B', 'B', 'M', 'B', 'M', 'M',\n",
              "       'M', 'B', 'B', 'B', 'B', 'M', 'M', 'B', 'B', 'B', 'B', 'B', 'M',\n",
              "       'B', 'M', 'M', 'M', 'M', 'B', 'B', 'B'], dtype=object)"
            ]
          },
          "metadata": {
            "tags": []
          },
          "execution_count": 20
        }
      ]
    },
    {
      "cell_type": "code",
      "metadata": {
        "id": "DnLcDmdMUocJ",
        "colab_type": "code",
        "colab": {
          "base_uri": "https://localhost:8080/",
          "height": 282
        },
        "outputId": "c2029ed9-e283-41f8-ff59-5a8bce2135ca"
      },
      "source": [
        "from sklearn.metrics import confusion_matrix\n",
        "sns.heatmap(confusion_matrix(y_train,final_train_pred),annot =True,fmt='d',annot_kws={'va':'top','ha':'right'})"
      ],
      "execution_count": 21,
      "outputs": [
        {
          "output_type": "execute_result",
          "data": {
            "text/plain": [
              "<matplotlib.axes._subplots.AxesSubplot at 0x7f21b2ca4e48>"
            ]
          },
          "metadata": {
            "tags": []
          },
          "execution_count": 21
        },
        {
          "output_type": "display_data",
          "data": {
            "image/png": "[encoded data removed]",
            "text/plain": [
              "<Figure size 432x288 with 2 Axes>"
            ]
          },
          "metadata": {
            "tags": [],
            "needs_background": "light"
          }
        }
      ]
    },
    {
      "cell_type": "code",
      "metadata": {
        "id": "xiGRzSGwVM_4",
        "colab_type": "code",
        "colab": {
          "base_uri": "https://localhost:8080/",
          "height": 170
        },
        "outputId": "763ff8ff-19b0-4bd4-f6f0-fa8848feebd8"
      },
      "source": [
        "#classification report\n",
        "# precision ==>ppv -->output of the positive predicted value,how many truely positives\n",
        "print(classification_report(y_train,final_train_pred))"
      ],
      "execution_count": 22,
      "outputs": [
        {
          "output_type": "stream",
          "text": [
            "              precision    recall  f1-score   support\n",
            "\n",
            "           B       0.96      0.99      0.98       243\n",
            "           M       0.99      0.94      0.96       155\n",
            "\n",
            "    accuracy                           0.97       398\n",
            "   macro avg       0.97      0.96      0.97       398\n",
            "weighted avg       0.97      0.97      0.97       398\n",
            "\n"
          ],
          "name": "stdout"
        }
      ]
    },
    {
      "cell_type": "markdown",
      "metadata": {
        "id": "eEGHroaBVbr6",
        "colab_type": "text"
      },
      "source": [
        ""
      ]
    },
    {
      "cell_type": "code",
      "metadata": {
        "id": "QWo3Ksg8V--k",
        "colab_type": "code",
        "colab": {
          "base_uri": "https://localhost:8080/",
          "height": 255
        },
        "outputId": "22d204b0-c81f-465a-d2bf-f74fbda155c5"
      },
      "source": [
        "# predictions on test data\n",
        "final_test_pred = final_model.predict(scaled_X_test)\n",
        "final_test_pred"
      ],
      "execution_count": 23,
      "outputs": [
        {
          "output_type": "execute_result",
          "data": {
            "text/plain": [
              "array(['M', 'M', 'M', 'M', 'B', 'B', 'B', 'B', 'B', 'B', 'B', 'B', 'B',\n",
              "       'B', 'B', 'M', 'B', 'B', 'B', 'B', 'B', 'B', 'M', 'M', 'B', 'B',\n",
              "       'B', 'B', 'B', 'B', 'B', 'M', 'B', 'B', 'B', 'B', 'M', 'B', 'M',\n",
              "       'M', 'B', 'B', 'B', 'B', 'B', 'B', 'B', 'B', 'B', 'B', 'M', 'B',\n",
              "       'B', 'B', 'B', 'M', 'M', 'M', 'B', 'B', 'B', 'B', 'B', 'B', 'B',\n",
              "       'M', 'B', 'M', 'B', 'B', 'B', 'B', 'M', 'B', 'M', 'B', 'M', 'M',\n",
              "       'M', 'B', 'B', 'B', 'B', 'B', 'M', 'B', 'M', 'B', 'M', 'M', 'M',\n",
              "       'B', 'M', 'B', 'B', 'B', 'M', 'B', 'B', 'B', 'B', 'M', 'M', 'B',\n",
              "       'B', 'M', 'B', 'M', 'B', 'M', 'B', 'B', 'B', 'M', 'M', 'B', 'B',\n",
              "       'M', 'B', 'B', 'B', 'M', 'B', 'B', 'B', 'M', 'M', 'M', 'B', 'B',\n",
              "       'B', 'B', 'M', 'M', 'B', 'B', 'B', 'M', 'B', 'B', 'M', 'M', 'M',\n",
              "       'B', 'B', 'B', 'B', 'B', 'B', 'B', 'B', 'B', 'B', 'M', 'B', 'M',\n",
              "       'M', 'B', 'B', 'B', 'B', 'M', 'B', 'M', 'M', 'B', 'B', 'M', 'B',\n",
              "       'B', 'M'], dtype=object)"
            ]
          },
          "metadata": {
            "tags": []
          },
          "execution_count": 23
        }
      ]
    },
    {
      "cell_type": "code",
      "metadata": {
        "id": "7GWihisQWSCT",
        "colab_type": "code",
        "colab": {
          "base_uri": "https://localhost:8080/",
          "height": 282
        },
        "outputId": "83d51d9e-1512-4819-d415-d1cc982cb2f1"
      },
      "source": [
        " # comparing actual values of the test data(y_test)and final_test_pred(model predicted values)\n",
        " # confusion_matrix(actualvalues,predicted values)\n",
        " sns.heatmap(confusion_matrix(y_test,final_test_pred),annot =True,fmt ='d')"
      ],
      "execution_count": 24,
      "outputs": [
        {
          "output_type": "execute_result",
          "data": {
            "text/plain": [
              "<matplotlib.axes._subplots.AxesSubplot at 0x7f21b1558b70>"
            ]
          },
          "metadata": {
            "tags": []
          },
          "execution_count": 24
        },
        {
          "output_type": "display_data",
          "data": {
            "image/png": "[encoded data removed]",
            "text/plain": [
              "<Figure size 432x288 with 2 Axes>"
            ]
          },
          "metadata": {
            "tags": [],
            "needs_background": "light"
          }
        }
      ]
    },
    {
      "cell_type": "code",
      "metadata": {
        "id": "Nj7twF5eW5MH",
        "colab_type": "code",
        "colab": {
          "base_uri": "https://localhost:8080/",
          "height": 170
        },
        "outputId": "b931a25b-bacd-43f6-c39e-863d4e46594e"
      },
      "source": [
        "# calssification report for test data\n",
        "print(classification_report(y_test,final_test_pred))"
      ],
      "execution_count": 25,
      "outputs": [
        {
          "output_type": "stream",
          "text": [
            "              precision    recall  f1-score   support\n",
            "\n",
            "           B       0.97      0.99      0.98       114\n",
            "           M       0.98      0.95      0.96        57\n",
            "\n",
            "    accuracy                           0.98       171\n",
            "   macro avg       0.98      0.97      0.97       171\n",
            "weighted avg       0.98      0.98      0.98       171\n",
            "\n"
          ],
          "name": "stdout"
        }
      ]
    },
    {
      "cell_type": "code",
      "metadata": {
        "id": "3OzDYdhaXUoB",
        "colab_type": "code",
        "colab": {
          "base_uri": "https://localhost:8080/",
          "height": 419
        },
        "outputId": "e845096c-258c-458d-8e6c-41ee8a9fa6fb"
      },
      "source": [
        "# Predict the prob of a tumour being Benign or Malignant\n",
        "# Predict--> give you the predicted value(B or M)\n",
        "# Predict_proba--> gives you the probability associated with B and probability \n",
        "                                                         ##associated with M\n",
        "# Syntax: objectname.predict_proba(Input values)\n",
        "\n",
        "y_test_prob = final_model.predict_proba(scaled_X_test)\n",
        "y_test_prob = pd.DataFrame(y_test_prob)\n",
        "y_test_prob"
      ],
      "execution_count": 26,
      "outputs": [
        {
          "output_type": "execute_result",
          "data": {
            "text/html": [
              "<div>\n",
              "<style scoped>\n",
              "    .dataframe tbody tr th:only-of-type {\n",
              "        vertical-align: middle;\n",
              "    }\n",
              "\n",
              "    .dataframe tbody tr th {\n",
              "        vertical-align: top;\n",
              "    }\n",
              "\n",
              "    .dataframe thead th {\n",
              "        text-align: right;\n",
              "    }\n",
              "</style>\n",
              "<table border=\"1\" class=\"dataframe\">\n",
              "  <thead>\n",
              "    <tr style=\"text-align: right;\">\n",
              "      <th></th>\n",
              "      <th>0</th>\n",
              "      <th>1</th>\n",
              "    </tr>\n",
              "  </thead>\n",
              "  <tbody>\n",
              "    <tr>\n",
              "      <th>0</th>\n",
              "      <td>0.090909</td>\n",
              "      <td>0.909091</td>\n",
              "    </tr>\n",
              "    <tr>\n",
              "      <th>1</th>\n",
              "      <td>0.000000</td>\n",
              "      <td>1.000000</td>\n",
              "    </tr>\n",
              "    <tr>\n",
              "      <th>2</th>\n",
              "      <td>0.272727</td>\n",
              "      <td>0.727273</td>\n",
              "    </tr>\n",
              "    <tr>\n",
              "      <th>3</th>\n",
              "      <td>0.000000</td>\n",
              "      <td>1.000000</td>\n",
              "    </tr>\n",
              "    <tr>\n",
              "      <th>4</th>\n",
              "      <td>1.000000</td>\n",
              "      <td>0.000000</td>\n",
              "    </tr>\n",
              "    <tr>\n",
              "      <th>...</th>\n",
              "      <td>...</td>\n",
              "      <td>...</td>\n",
              "    </tr>\n",
              "    <tr>\n",
              "      <th>166</th>\n",
              "      <td>0.818182</td>\n",
              "      <td>0.181818</td>\n",
              "    </tr>\n",
              "    <tr>\n",
              "      <th>167</th>\n",
              "      <td>0.000000</td>\n",
              "      <td>1.000000</td>\n",
              "    </tr>\n",
              "    <tr>\n",
              "      <th>168</th>\n",
              "      <td>1.000000</td>\n",
              "      <td>0.000000</td>\n",
              "    </tr>\n",
              "    <tr>\n",
              "      <th>169</th>\n",
              "      <td>0.909091</td>\n",
              "      <td>0.090909</td>\n",
              "    </tr>\n",
              "    <tr>\n",
              "      <th>170</th>\n",
              "      <td>0.090909</td>\n",
              "      <td>0.909091</td>\n",
              "    </tr>\n",
              "  </tbody>\n",
              "</table>\n",
              "<p>171 rows × 2 columns</p>\n",
              "</div>"
            ],
            "text/plain": [
              "            0         1\n",
              "0    0.090909  0.909091\n",
              "1    0.000000  1.000000\n",
              "2    0.272727  0.727273\n",
              "3    0.000000  1.000000\n",
              "4    1.000000  0.000000\n",
              "..        ...       ...\n",
              "166  0.818182  0.181818\n",
              "167  0.000000  1.000000\n",
              "168  1.000000  0.000000\n",
              "169  0.909091  0.090909\n",
              "170  0.090909  0.909091\n",
              "\n",
              "[171 rows x 2 columns]"
            ]
          },
          "metadata": {
            "tags": []
          },
          "execution_count": 26
        }
      ]
    },
    {
      "cell_type": "code",
      "metadata": {
        "id": "5-HrWdiQ2SJg",
        "colab_type": "code",
        "colab": {
          "base_uri": "https://localhost:8080/",
          "height": 221
        },
        "outputId": "a2aba332-479b-4ac1-d667-fa46992d1d93"
      },
      "source": [
        "y_test"
      ],
      "execution_count": 27,
      "outputs": [
        {
          "output_type": "execute_result",
          "data": {
            "text/plain": [
              "421    M\n",
              "47     M\n",
              "292    M\n",
              "186    M\n",
              "414    B\n",
              "      ..\n",
              "6      B\n",
              "487    M\n",
              "11     B\n",
              "268    B\n",
              "419    M\n",
              "Name: diagnosis, Length: 171, dtype: object"
            ]
          },
          "metadata": {
            "tags": []
          },
          "execution_count": 27
        }
      ]
    },
    {
      "cell_type": "code",
      "metadata": {
        "id": "eP8dcesy2e4e",
        "colab_type": "code",
        "colab": {}
      },
      "source": [
        " #Roc curve\n",
        "## TPR, FPR, Threshold\n",
        "from sklearn.metrics import roc_auc_score, roc_curve\n",
        "m_prob = final_model.predict_proba(scaled_X_test)[:,1]\n",
        "fpr, tpr, threshold = roc_curve(y_test, m_prob, pos_label='M' )"
      ],
      "execution_count": 36,
      "outputs": []
    },
    {
      "cell_type": "code",
      "metadata": {
        "id": "vGYpYQgfEFkF",
        "colab_type": "code",
        "colab": {
          "base_uri": "https://localhost:8080/",
          "height": 282
        },
        "outputId": "57d27b9e-e328-4ffe-ed73-ef5a0955102a"
      },
      "source": [
        "plt.plot(fpr, tpr)"
      ],
      "execution_count": 37,
      "outputs": [
        {
          "output_type": "execute_result",
          "data": {
            "text/plain": [
              "[<matplotlib.lines.Line2D at 0x7f21aeb0c2e8>]"
            ]
          },
          "metadata": {
            "tags": []
          },
          "execution_count": 37
        },
        {
          "output_type": "display_data",
          "data": {
            "image/png": "[encoded data removed]",
            "text/plain": [
              "<Figure size 432x288 with 1 Axes>"
            ]
          },
          "metadata": {
            "tags": [],
            "needs_background": "light"
          }
        }
      ]
    },
    {
      "cell_type": "code",
      "metadata": {
        "id": "M9knEJitELwU",
        "colab_type": "code",
        "colab": {
          "base_uri": "https://localhost:8080/",
          "height": 34
        },
        "outputId": "1acb162b-e6e3-4f69-99c7-9b45dddf9a0d"
      },
      "source": [
        "roc_auc_score(y_test, m_prob)"
      ],
      "execution_count": 38,
      "outputs": [
        {
          "output_type": "execute_result",
          "data": {
            "text/plain": [
              "0.9848414896891351"
            ]
          },
          "metadata": {
            "tags": []
          },
          "execution_count": 38
        }
      ]
    },
    {
      "cell_type": "code",
      "metadata": {
        "id": "MLE9hBx3FcAy",
        "colab_type": "code",
        "colab": {
          "base_uri": "https://localhost:8080/",
          "height": 34
        },
        "outputId": "9f189a8a-8acc-4f46-aa39-42b920e690e9"
      },
      "source": [
        "# KFold\n",
        "#5 folds--> In each and every fold--> create a part of test data and remaining will be of training data\n",
        "from sklearn.model_selection import KFold\n",
        "kfold = KFold(n_splits=5)\n",
        "kfold.get_n_splits(X, y)"
      ],
      "execution_count": 39,
      "outputs": [
        {
          "output_type": "execute_result",
          "data": {
            "text/plain": [
              "5"
            ]
          },
          "metadata": {
            "tags": []
          },
          "execution_count": 39
        }
      ]
    },
    {
      "cell_type": "code",
      "metadata": {
        "id": "cUcGMtyQGudu",
        "colab_type": "code",
        "colab": {
          "base_uri": "https://localhost:8080/",
          "height": 51
        },
        "outputId": "ec40e558-10e9-4f56-b755-9b93a9d2a809"
      },
      "source": [
        "model_knn = KNeighborsClassifier(n_neighbors=7, metric='euclidean')\n",
        "score = []\n",
        "for train_index, test_index in kfold.split(X, y):\n",
        "    X_train, X_test = X.iloc[train_index], X.iloc[test_index]\n",
        "    y_train, y_test = y.iloc[train_index], y.iloc[test_index]\n",
        "    \n",
        "    #pass the X_train, y_train into the knn algorithm\n",
        "    model_knn.fit(X_train, y_train)\n",
        "    \n",
        "    # predict the model on test data(X_test, y_test)\n",
        "    y_pred_test = model_knn.predict(X_test)\n",
        "    \n",
        "    # accuracy score of predicted values(y_pred_test) and A.V(y_test)\n",
        "    accuracy = accuracy_score(y_test, y_pred_test)\n",
        "    score.append(accuracy)\n",
        "print(score)\n",
        "print('Average Score of the model:',np.mean(score))"
      ],
      "execution_count": 40,
      "outputs": [
        {
          "output_type": "stream",
          "text": [
            "[0.9122807017543859, 0.9035087719298246, 0.956140350877193, 0.9473684210526315, 0.9469026548672567]\n",
            "Average Score of the model: 0.9332401800962584\n"
          ],
          "name": "stdout"
        }
      ]
    },
    {
      "cell_type": "code",
      "metadata": {
        "id": "FGHrlyhCKPRc",
        "colab_type": "code",
        "colab": {}
      },
      "source": [
        ""
      ],
      "execution_count": null,
      "outputs": []
    }
  ]
}